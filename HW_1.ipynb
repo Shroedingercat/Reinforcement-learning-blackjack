{
 "cells": [
  {
   "cell_type": "code",
   "execution_count": 1,
   "metadata": {},
   "outputs": [],
   "source": [
    "import numpy as np\n",
    "from tqdm import tqdm\n",
    "from Blackjack import blackjack\n",
    "\n",
    "\n",
    "import matplotlib.pyplot as plt\n",
    "\n",
    "\n",
    "\n",
    "%matplotlib inline\n"
   ]
  },
  {
   "cell_type": "markdown",
   "metadata": {},
   "source": [
    "# Часть первая, с блекджеком и стратегиями\n"
   ]
  },
  {
   "cell_type": "code",
   "execution_count": 2,
   "metadata": {},
   "outputs": [],
   "source": [
    "env = blackjack.BlackjackEnv(natural=True)"
   ]
  },
  {
   "cell_type": "code",
   "execution_count": 3,
   "metadata": {},
   "outputs": [],
   "source": [
    "def simple_strategy(env):\n",
    "    history = []\n",
    "    points, dealer, _ = env.reset()\n",
    "    R = 0\n",
    "    history.append((points, dealer, R))\n",
    "    end = False\n",
    "    while not end:\n",
    "        if history[-1][0] in [19, 20, 21]:\n",
    "            action = 0\n",
    "        else:\n",
    "            action = 1\n",
    "        tmp, R, end, _ = env.step(action)\n",
    "        history.append((tmp[0], tmp[1],  R))\n",
    "        \n",
    "    return history"
   ]
  },
  {
   "cell_type": "code",
   "execution_count": 4,
   "metadata": {},
   "outputs": [],
   "source": [
    "#Используйте методы Монте-Карло, чтобы оценить выигрыш от этой стратегии.\n",
    "# Не на 100% уверен, что вы под этим имели в виду Поэтому посчитал ожидаемый выйгрышь для каждой позиции\n",
    "# И просто средний выйгрышь\n",
    "def get_Monte_Carlo_V(strategy, env, j=1, n_iter=100000):\n",
    "    V = np.zeros((21, 21))\n",
    "    N = np.zeros((21, 21))\n",
    "    for i in range(n_iter):\n",
    "        G = 0\n",
    "        history = simple_strategy(env)\n",
    "        T = len(history)-1\n",
    "        for t in range(T-1, -1, -1):\n",
    "            G = G*j + history[t+1][2]\n",
    "            player, dealer = history[t][0]-1, history[t][1]-1\n",
    "            N[player, dealer] += 1\n",
    "            V[player, dealer] += 1/N[player, dealer]*(G-V[player, dealer])\n",
    "    return V\n",
    "            "
   ]
  },
  {
   "cell_type": "code",
   "execution_count": 5,
   "metadata": {},
   "outputs": [
    {
     "data": {
      "text/plain": [
       "array([[ 0.        ,  0.        ,  0.        ,  0.        ,  0.        ,\n",
       "         0.        ,  0.        ,  0.        ,  0.        ,  0.        ,\n",
       "         0.        ,  0.        ,  0.        ,  0.        ,  0.        ,\n",
       "         0.        ,  0.        ,  0.        ,  0.        ,  0.        ,\n",
       "         0.        ],\n",
       "       [ 0.        ,  0.        ,  0.        ,  0.        ,  0.        ,\n",
       "         0.        ,  0.        ,  0.        ,  0.        ,  0.        ,\n",
       "         0.        ,  0.        ,  0.        ,  0.        ,  0.        ,\n",
       "         0.        ,  0.        ,  0.        ,  0.        ,  0.        ,\n",
       "         0.        ],\n",
       "       [ 0.        ,  0.        ,  0.        ,  0.        ,  0.        ,\n",
       "         0.        ,  0.        ,  0.        ,  0.        ,  0.        ,\n",
       "         0.        ,  0.        ,  0.        ,  0.        ,  0.        ,\n",
       "         0.        ,  0.        ,  0.        ,  0.        ,  0.        ,\n",
       "         0.        ],\n",
       "       [-0.31372549, -0.2826087 , -0.41666667, -0.175     , -0.4047619 ,\n",
       "        -0.35135135, -0.19607843, -0.0212766 , -0.19444444, -0.4556213 ,\n",
       "         0.        ,  0.        ,  0.        ,  0.        ,  0.        ,\n",
       "         0.        ,  0.        ,  0.        ,  0.        ,  0.        ,\n",
       "         0.        ],\n",
       "       [-0.42857143, -0.33333333, -0.39795918, -0.2173913 , -0.23170732,\n",
       "        -0.27083333, -0.22857143, -0.30630631, -0.19387755, -0.43768116,\n",
       "         0.        ,  0.        ,  0.        ,  0.        ,  0.        ,\n",
       "         0.        ,  0.        ,  0.        ,  0.        ,  0.        ,\n",
       "         0.        ],\n",
       "       [-0.49689441, -0.40689655, -0.4375    , -0.448     , -0.40944882,\n",
       "        -0.3559322 , -0.21985816, -0.30075188, -0.28346457, -0.47407407,\n",
       "         0.        ,  0.        ,  0.        ,  0.        ,  0.        ,\n",
       "         0.        ,  0.        ,  0.        ,  0.        ,  0.        ,\n",
       "         0.        ],\n",
       "       [-0.50543478, -0.27722772, -0.3019802 , -0.42346939, -0.40350877,\n",
       "        -0.34517766, -0.39086294, -0.27368421, -0.39893617, -0.46717172,\n",
       "         0.        ,  0.        ,  0.        ,  0.        ,  0.        ,\n",
       "         0.        ,  0.        ,  0.        ,  0.        ,  0.        ,\n",
       "         0.        ],\n",
       "       [-0.60330579, -0.39543726, -0.39393939, -0.37931034, -0.42168675,\n",
       "        -0.31034483, -0.32128514, -0.3229572 , -0.39230769, -0.5       ,\n",
       "         0.        ,  0.        ,  0.        ,  0.        ,  0.        ,\n",
       "         0.        ,  0.        ,  0.        ,  0.        ,  0.        ,\n",
       "         0.        ],\n",
       "       [-0.45733788, -0.09345794, -0.0543131 , -0.08668731, -0.04472843,\n",
       "        -0.05571031,  0.08503401,  0.02153846, -0.08709677, -0.34063444,\n",
       "         0.        ,  0.        ,  0.        ,  0.        ,  0.        ,\n",
       "         0.        ,  0.        ,  0.        ,  0.        ,  0.        ,\n",
       "         0.        ],\n",
       "       [-0.34821429, -0.05352113,  0.08625337, -0.01108033, -0.06666667,\n",
       "         0.08222812,  0.10858586,  0.16666667,  0.12201592, -0.15956728,\n",
       "         0.        ,  0.        ,  0.        ,  0.        ,  0.        ,\n",
       "         0.        ,  0.        ,  0.        ,  0.        ,  0.        ,\n",
       "         0.        ],\n",
       "       [-0.19406393,  0.11789474,  0.06636156,  0.14978903,  0.06635071,\n",
       "         0.08958333,  0.20123203,  0.16993464,  0.05578512, -0.00959368,\n",
       "         0.        ,  0.        ,  0.        ,  0.        ,  0.        ,\n",
       "         0.        ,  0.        ,  0.        ,  0.        ,  0.        ,\n",
       "         0.        ],\n",
       "       [-0.57303371, -0.39347826, -0.35591398, -0.39439655, -0.43093923,\n",
       "        -0.39936441, -0.3410596 , -0.36528759, -0.40451745, -0.4567735 ,\n",
       "         0.        ,  0.        ,  0.        ,  0.        ,  0.        ,\n",
       "         0.        ,  0.        ,  0.        ,  0.        ,  0.        ,\n",
       "         0.        ],\n",
       "       [-0.55771195, -0.43794872, -0.39624413, -0.41204139, -0.39695431,\n",
       "        -0.41141732, -0.33394834, -0.44516729, -0.41438703, -0.50667338,\n",
       "         0.        ,  0.        ,  0.        ,  0.        ,  0.        ,\n",
       "         0.        ,  0.        ,  0.        ,  0.        ,  0.        ,\n",
       "         0.        ],\n",
       "       [-0.56311637, -0.47509579, -0.46507353, -0.44392523, -0.44985673,\n",
       "        -0.41370107, -0.41706161, -0.4073724 , -0.4937799 , -0.54200146,\n",
       "         0.        ,  0.        ,  0.        ,  0.        ,  0.        ,\n",
       "         0.        ,  0.        ,  0.        ,  0.        ,  0.        ,\n",
       "         0.        ],\n",
       "       [-0.59449541, -0.50888681, -0.54611872, -0.49448529, -0.51792453,\n",
       "        -0.53178694, -0.46471127, -0.4068582 , -0.50998185, -0.54406662,\n",
       "         0.        ,  0.        ,  0.        ,  0.        ,  0.        ,\n",
       "         0.        ,  0.        ,  0.        ,  0.        ,  0.        ,\n",
       "         0.        ],\n",
       "       [-0.66039427, -0.56145004, -0.4924812 , -0.56014047, -0.49327354,\n",
       "        -0.53242321, -0.47105966, -0.4788975 , -0.54074074, -0.57015832,\n",
       "         0.        ,  0.        ,  0.        ,  0.        ,  0.        ,\n",
       "         0.        ,  0.        ,  0.        ,  0.        ,  0.        ,\n",
       "         0.        ],\n",
       "       [-0.65384615, -0.57731959, -0.55233069, -0.55084746, -0.51192504,\n",
       "        -0.51430908, -0.5497553 , -0.50325733, -0.55211726, -0.59939236,\n",
       "         0.        ,  0.        ,  0.        ,  0.        ,  0.        ,\n",
       "         0.        ,  0.        ,  0.        ,  0.        ,  0.        ,\n",
       "         0.        ],\n",
       "       [-0.69373942, -0.52828685, -0.52023121, -0.60498793, -0.56351792,\n",
       "        -0.54372019, -0.50732899, -0.54476987, -0.57903226, -0.63942405,\n",
       "         0.        ,  0.        ,  0.        ,  0.        ,  0.        ,\n",
       "         0.        ,  0.        ,  0.        ,  0.        ,  0.        ,\n",
       "         0.        ],\n",
       "       [-0.16666667,  0.40062844,  0.43514644,  0.43415463,  0.43374486,\n",
       "         0.48780488,  0.63829787,  0.57342084,  0.29843364, -0.02985685,\n",
       "         0.        ,  0.        ,  0.        ,  0.        ,  0.        ,\n",
       "         0.        ,  0.        ,  0.        ,  0.        ,  0.        ,\n",
       "         0.        ],\n",
       "       [ 0.13618926,  0.65194463,  0.66148102,  0.67346939,  0.63247863,\n",
       "         0.72600243,  0.8023544 ,  0.80158247,  0.75429663,  0.43763814,\n",
       "         0.        ,  0.        ,  0.        ,  0.        ,  0.        ,\n",
       "         0.        ,  0.        ,  0.        ,  0.        ,  0.        ,\n",
       "         0.        ],\n",
       "       [ 0.73287037,  1.02003643,  1.03839286,  1.01916058,  1.03494874,\n",
       "         1.04840183,  1.07167986,  1.06911263,  1.08625219,  1.02902937,\n",
       "         0.        ,  0.        ,  0.        ,  0.        ,  0.        ,\n",
       "         0.        ,  0.        ,  0.        ,  0.        ,  0.        ,\n",
       "         0.        ]])"
      ]
     },
     "execution_count": 5,
     "metadata": {},
     "output_type": "execute_result"
    }
   ],
   "source": [
    "get_Monte_Carlo_V(simple_strategy, env)"
   ]
  },
  {
   "cell_type": "code",
   "execution_count": 6,
   "metadata": {},
   "outputs": [],
   "source": [
    "def get_Monte_Carlo_R(strategy, env, j=1, n_iter=100000):\n",
    "    R = 0\n",
    "    for i in range(n_iter):\n",
    "        G = 0\n",
    "        R += simple_strategy(env)[-1][2]\n",
    "    return R/n_iter"
   ]
  },
  {
   "cell_type": "code",
   "execution_count": 7,
   "metadata": {},
   "outputs": [
    {
     "data": {
      "text/plain": [
       "-0.18499"
      ]
     },
     "execution_count": 7,
     "metadata": {},
     "output_type": "execute_result"
    }
   ],
   "source": [
    "get_Monte_Carlo_R(simple_strategy, env)"
   ]
  },
  {
   "cell_type": "markdown",
   "metadata": {},
   "source": [
    "### Реализуйте метод обучения с подкреплением без модели (можно Q-обучение, но рекомендую попробовать и другие, например Monte Carlo control) для обучения стратегии в блекджеке, используя окружение Blackjack-v0 из OpenAI Gym"
   ]
  },
  {
   "cell_type": "code",
   "execution_count": 8,
   "metadata": {},
   "outputs": [],
   "source": [
    "def Q_learning_episode(env, pi, Q, alpha=0.1, epsilon=0.1, gamma=0.9):\n",
    "    player, dealer, _ = env.reset()\n",
    "    player -= 1\n",
    "    dealer -= 1\n",
    "    end = False\n",
    "    action = pi[player, dealer] if np.random.rand() > epsilon else np.random.randint(Na)\n",
    "    while not end:\n",
    "        tmp, reward, end, _ = env.step(action)\n",
    "        action_prime = pi[tmp[0]-1, tmp[1]-1] if np.random.rand() > epsilon else np.random.randint(Na)\n",
    "        Q[player, dealer][action] = Q[player, dealer][action] + alpha * (reward + gamma * np.max( Q[tmp[0]-1, tmp[1]-1] ) - Q[player, dealer][action])\n",
    "        player, dealer, action = tmp[0]-1, tmp[1]-1, action_prime\n",
    "    return Q, pi, reward"
   ]
  },
  {
   "cell_type": "markdown",
   "metadata": {},
   "source": [
    "### Сколько выигрывает казино у вашей стратегии? Нарисуйте графики среднего дохода вашего метода (усреднённого по крайней мере по 100000 раздач, а лучше больше) по ходу обучения. Попробуйте подобрать оптимальные гиперпараметры.\n"
   ]
  },
  {
   "cell_type": "code",
   "execution_count": 9,
   "metadata": {},
   "outputs": [
    {
     "name": "stderr",
     "output_type": "stream",
     "text": [
      "100%|███████████████████████████████████████████████████████████████████████| 100000/100000 [00:09<00:00, 10650.58it/s]\n",
      "  1%|▊                                                                        | 1052/100000 [00:00<00:09, 10417.56it/s]"
     ]
    },
    {
     "name": "stdout",
     "output_type": "stream",
     "text": [
      "Еpsilon 1 -0.38622\n"
     ]
    },
    {
     "name": "stderr",
     "output_type": "stream",
     "text": [
      "100%|███████████████████████████████████████████████████████████████████████| 100000/100000 [00:09<00:00, 10355.36it/s]\n",
      "  1%|▊                                                                        | 1054/100000 [00:00<00:09, 10538.75it/s]"
     ]
    },
    {
     "name": "stdout",
     "output_type": "stream",
     "text": [
      "Еpsilon 0.5 -0.27754\n"
     ]
    },
    {
     "name": "stderr",
     "output_type": "stream",
     "text": [
      "100%|███████████████████████████████████████████████████████████████████████| 100000/100000 [00:09<00:00, 10298.51it/s]\n",
      "  1%|▊                                                                        | 1033/100000 [00:00<00:09, 10328.04it/s]"
     ]
    },
    {
     "name": "stdout",
     "output_type": "stream",
     "text": [
      "Еpsilon 0.2 -0.191005\n"
     ]
    },
    {
     "name": "stderr",
     "output_type": "stream",
     "text": [
      "100%|███████████████████████████████████████████████████████████████████████| 100000/100000 [00:09<00:00, 10208.80it/s]\n",
      "  1%|▊                                                                        | 1033/100000 [00:00<00:09, 10328.56it/s]"
     ]
    },
    {
     "name": "stdout",
     "output_type": "stream",
     "text": [
      "Еpsilon 0.1 -0.17741\n"
     ]
    },
    {
     "name": "stderr",
     "output_type": "stream",
     "text": [
      "100%|███████████████████████████████████████████████████████████████████████| 100000/100000 [00:09<00:00, 10144.92it/s]"
     ]
    },
    {
     "name": "stdout",
     "output_type": "stream",
     "text": [
      "Еpsilon 0 -0.15989\n"
     ]
    },
    {
     "name": "stderr",
     "output_type": "stream",
     "text": [
      "\n"
     ]
    },
    {
     "data": {
      "text/plain": [
       "Text(0, 0.5, 'Средний доход')"
      ]
     },
     "execution_count": 9,
     "metadata": {},
     "output_type": "execute_result"
    },
    {
     "data": {
      "image/png": "[encoded data removed]",
      "text/plain": [
       "<Figure size 864x432 with 1 Axes>"
      ]
     },
     "metadata": {
      "needs_background": "light"
     },
     "output_type": "display_data"
    }
   ],
   "source": [
    "Q = np.random.rand(31,31,2)\n",
    "Na = 2\n",
    "fig, ax = plt.subplots(1, 1, figsize=(12, 6))\n",
    "n_heands = 100000\n",
    "for epsilon in [1, 0.5, 0.2, 0.1, 0]:\n",
    "    avg = []\n",
    "    sm = 0\n",
    "    for i in tqdm(range(n_heands)):\n",
    "        pi = np.argmax(Q, axis=2 )\n",
    "        Q, pi, reward = Q_learning_episode(env, pi, Q, alpha=0.05, epsilon=epsilon, gamma=0.9)\n",
    "        sm += reward\n",
    "        avg.append(sm/(i+1))\n",
    "    print(f\"Еpsilon {epsilon}\", avg[-1])\n",
    "        \n",
    "    ax.plot(list(range(n_heands)), avg, label=f\"Еpsilon {epsilon}\")\n",
    "ax.legend(loc=\"upper right\")\n",
    "#ax.set_xlim((1, total_episodes))\n",
    "ax.set_xlabel(\"Кол-во 'рук'\")\n",
    "ax.set_ylabel(\"Средний доход\")"
   ]
  },
  {
   "cell_type": "markdown",
   "metadata": {},
   "source": [
    "# Часть вторая, удвоенная"
   ]
  },
  {
   "cell_type": "code",
   "execution_count": 10,
   "metadata": {},
   "outputs": [],
   "source": [
    "env = blackjack.BlackjackEnv(double=True, natural=True)"
   ]
  },
  {
   "cell_type": "code",
   "execution_count": 11,
   "metadata": {},
   "outputs": [
    {
     "data": {
      "text/plain": [
       "(9, 10, False)"
      ]
     },
     "execution_count": 11,
     "metadata": {},
     "output_type": "execute_result"
    }
   ],
   "source": [
    "env.reset()"
   ]
  },
  {
   "cell_type": "code",
   "execution_count": 12,
   "metadata": {},
   "outputs": [
    {
     "data": {
      "text/plain": [
       "((15, 10, False), 2.0, True, {})"
      ]
     },
     "execution_count": 12,
     "metadata": {},
     "output_type": "execute_result"
    }
   ],
   "source": [
    "env.step(2)"
   ]
  },
  {
   "cell_type": "code",
   "execution_count": 13,
   "metadata": {},
   "outputs": [
    {
     "name": "stderr",
     "output_type": "stream",
     "text": [
      "100%|███████████████████████████████████████████████████████████████████████| 100000/100000 [00:09<00:00, 10122.10it/s]\n",
      "  1%|▊                                                                        | 1029/100000 [00:00<00:09, 10188.35it/s]"
     ]
    },
    {
     "name": "stdout",
     "output_type": "stream",
     "text": [
      "Еpsilon 1 -0.463935\n"
     ]
    },
    {
     "name": "stderr",
     "output_type": "stream",
     "text": [
      "100%|████████████████████████████████████████████████████████████████████████| 100000/100000 [00:10<00:00, 9948.59it/s]\n",
      "  1%|▋                                                                        | 1023/100000 [00:00<00:09, 10228.23it/s]"
     ]
    },
    {
     "name": "stdout",
     "output_type": "stream",
     "text": [
      "Еpsilon 0.5 -0.315795\n"
     ]
    },
    {
     "name": "stderr",
     "output_type": "stream",
     "text": [
      "100%|████████████████████████████████████████████████████████████████████████| 100000/100000 [00:10<00:00, 9867.77it/s]\n",
      "  1%|▋                                                                        | 1016/100000 [00:00<00:09, 10157.49it/s]"
     ]
    },
    {
     "name": "stdout",
     "output_type": "stream",
     "text": [
      "Еpsilon 0.2 -0.217555\n"
     ]
    },
    {
     "name": "stderr",
     "output_type": "stream",
     "text": [
      "100%|████████████████████████████████████████████████████████████████████████| 100000/100000 [00:10<00:00, 9872.63it/s]\n",
      "  1%|▋                                                                        | 1002/100000 [00:00<00:09, 10018.46it/s]"
     ]
    },
    {
     "name": "stdout",
     "output_type": "stream",
     "text": [
      "Еpsilon 0.1 -0.184745\n"
     ]
    },
    {
     "name": "stderr",
     "output_type": "stream",
     "text": [
      "100%|████████████████████████████████████████████████████████████████████████| 100000/100000 [00:10<00:00, 9783.35it/s]"
     ]
    },
    {
     "name": "stdout",
     "output_type": "stream",
     "text": [
      "Еpsilon 0 -0.152875\n"
     ]
    },
    {
     "name": "stderr",
     "output_type": "stream",
     "text": [
      "\n"
     ]
    },
    {
     "data": {
      "text/plain": [
       "Text(0, 0.5, 'Средний доход')"
      ]
     },
     "execution_count": 13,
     "metadata": {},
     "output_type": "execute_result"
    },
    {
     "data": {
      "image/png": "[encoded data removed]",
      "text/plain": [
       "<Figure size 864x432 with 1 Axes>"
      ]
     },
     "metadata": {
      "needs_background": "light"
     },
     "output_type": "display_data"
    }
   ],
   "source": [
    "Q = np.random.rand(31,31,3)\n",
    "Na = 3\n",
    "fig, ax = plt.subplots(1, 1, figsize=(12, 6))\n",
    "n_heands = 100000\n",
    "for epsilon in [1, 0.5, 0.2, 0.1, 0]:\n",
    "    avg = []\n",
    "    sm = 0\n",
    "    for i in tqdm(range(n_heands)):\n",
    "        pi = np.argmax(Q, axis=2 )\n",
    "        Q, pi, reward = Q_learning_episode(env, pi, Q, alpha=0.05, epsilon=epsilon, gamma=0.9)\n",
    "        sm += reward\n",
    "        avg.append(sm/(i+1))\n",
    "    print(f\"Еpsilon {epsilon}\", avg[-1])\n",
    "        \n",
    "    ax.plot(list(range(n_heands)), avg, label=f\"Еpsilon {epsilon}\")\n",
    "ax.legend(loc=\"upper right\")\n",
    "#ax.set_xlim((1, total_episodes))\n",
    "ax.set_xlabel(\"Кол-во 'рук'\")\n",
    "ax.set_ylabel(\"Средний доход\")"
   ]
  },
  {
   "cell_type": "markdown",
   "metadata": {},
   "source": [
    "# Часть третья, в главной роли — Дастин Хоффма"
   ]
  },
  {
   "cell_type": "markdown",
   "metadata": {},
   "source": [
    "Просто сохраняю все карты по кооимбинациям из 2, 3, 4... .Приходится сохранять все в dict чтобы влезло в память, поэтому считается очень долго... :("
   ]
  },
  {
   "cell_type": "code",
   "execution_count": 14,
   "metadata": {},
   "outputs": [],
   "source": [
    "env = blackjack.MyBlackjackEnv(natural=True)"
   ]
  },
  {
   "cell_type": "code",
   "execution_count": 15,
   "metadata": {},
   "outputs": [
    {
     "data": {
      "text/plain": [
       "((16, 6, False), 0, False, False)"
      ]
     },
     "execution_count": 15,
     "metadata": {},
     "output_type": "execute_result"
    }
   ],
   "source": [
    "env.reset()"
   ]
  },
  {
   "cell_type": "code",
   "execution_count": 16,
   "metadata": {},
   "outputs": [
    {
     "data": {
      "text/plain": [
       "((20, 6, False), 0.0, False, False)"
      ]
     },
     "execution_count": 16,
     "metadata": {},
     "output_type": "execute_result"
    }
   ],
   "source": [
    "env.step(1)"
   ]
  },
  {
   "cell_type": "code",
   "execution_count": 17,
   "metadata": {},
   "outputs": [],
   "source": [
    "def find(x):\n",
    "    count = 0\n",
    "    for i in range(len(x)):\n",
    "        if x[i] == ',':\n",
    "            count += 1\n",
    "            if count == 2:\n",
    "                return i"
   ]
  },
  {
   "cell_type": "code",
   "execution_count": 18,
   "metadata": {},
   "outputs": [],
   "source": [
    "def Q_learning_episode(env, pi, Q, alpha=0.1, epsilon=0.1, gamma=0.9):\n",
    "    tmp, _, end, reseted = env.reset()\n",
    "    player, dealer = tmp[0], tmp[1]\n",
    "    player -= 1\n",
    "    dealer -= 1\n",
    "    rewards = []\n",
    "    key_pi = f\"{player},{dealer},{0},{0},{0},{0},{0},{0},{0},{0},{0},{0}\"\n",
    "    action = pi[key_pi]  if np.random.rand() > epsilon and pi.get(key_pi) is not None else np.random.randint(Na)\n",
    "    key_Q = key_pi\n",
    "    while not reseted:\n",
    "        tmp, reward, end, reseted = env.step(action)\n",
    "        index = env.cards_to_index()\n",
    "        key_pi_prime = f\"{tmp[0]-1},{tmp[1]-1}\"\n",
    "        \n",
    "        if pi.get(key_pi) is None:\n",
    "            pi[key_pi] = np.random.randint(Na)\n",
    "        for i in index:\n",
    "            key_pi_prime += f\",{i}\"\n",
    "        if pi.get(key_pi_prime) is None:\n",
    "            pi[key_pi_prime] = np.random.randint(Na)\n",
    "        action_prime = pi[key_pi_prime]  if np.random.rand() > epsilon and pi.get(key_pi) is not None else np.random.randint(Na)\n",
    "        key_Q_prime = key_pi_prime\n",
    "        if Q.get(key_Q) is None:\n",
    "            Q[key_Q] = np.random.random(size=Na)\n",
    "        if Q.get(key_Q_prime) is None:\n",
    "            Q[key_Q_prime] = np.random.random(size=Na)\n",
    "        Q[key_Q][action_prime] = Q[key_Q][action_prime] + alpha * (reward + gamma * np.max( Q[key_Q_prime] ) - Q[key_Q][action_prime])\n",
    "        key_pi, key_Q = key_pi_prime, key_Q_prime\n",
    "        if end:\n",
    "            rewards.append(reward)\n",
    "            pi = {key: Q[key].argmax() for key in Q}\n",
    "            tmp, _, end, reseted = env.reset()\n",
    "            key_pi = f\"{tmp[0]-1},{tmp[1]-1}\"+key_pi[find(key_pi):]\n",
    "            action = pi[key_pi]  if np.random.rand() > epsilon and pi.get(key_pi) is not None else np.random.randint(Na)\n",
    "            key_Q = key_pi\n",
    "            \n",
    "    return Q, pi, np.mean(rewards)"
   ]
  },
  {
   "cell_type": "code",
   "execution_count": null,
   "metadata": {},
   "outputs": [
    {
     "name": "stderr",
     "output_type": "stream",
     "text": [
      "100%|██████████████████████████████████████████████████████████████████████████████| 1000/1000 [01:51<00:00,  8.97it/s]\n",
      "  2%|█▊                                                                             | 23/1000 [00:00<00:04, 223.28it/s]"
     ]
    },
    {
     "name": "stdout",
     "output_type": "stream",
     "text": [
      "Еpsilon 0.5 -0.5576533075627279\n"
     ]
    },
    {
     "name": "stderr",
     "output_type": "stream",
     "text": [
      "100%|██████████████████████████████████████████████████████████████████████████████| 1000/1000 [02:05<00:00,  7.95it/s]\n",
      "  2%|█▉                                                                             | 24/1000 [00:00<00:04, 233.05it/s]"
     ]
    },
    {
     "name": "stdout",
     "output_type": "stream",
     "text": [
      "Еpsilon 0.2 -0.5641366809448278\n"
     ]
    },
    {
     "name": "stderr",
     "output_type": "stream",
     "text": [
      " 94%|██████████████████████████████████████████████████████████████████████████▎    | 940/1000 [01:40<00:09,  6.01it/s]"
     ]
    }
   ],
   "source": [
    "fig, ax = plt.subplots(1, 1, figsize=(12, 6))\n",
    "n_heands = 1000\n",
    "Na = 3\n",
    "for epsilon in [0.5, 0.2, 0.1, 0]:\n",
    "    avg = []\n",
    "    Q = dict()\n",
    "    pi = dict()\n",
    "    sm = 0\n",
    "    for i in tqdm(range(n_heands)):\n",
    "        Q, pi, reward = Q_learning_episode(env, pi, Q, alpha=0.05, epsilon=epsilon, gamma=0.9)\n",
    "        sm += reward\n",
    "        avg.append(sm/(i+1))\n",
    "    print(f\"Еpsilon {epsilon}\", avg[-1])\n",
    "        \n",
    "    ax.plot(list(range(n_heands)), avg, label=f\"Еpsilon {epsilon}\")\n",
    "ax.legend(loc=\"upper right\")\n",
    "ax.set_xlabel(\"Кол-во 'рук'\")\n",
    "ax.set_ylabel(\"Средний доход\")"
   ]
  },
  {
   "cell_type": "code",
   "execution_count": null,
   "metadata": {},
   "outputs": [],
   "source": []
  }
 ],
 "metadata": {
  "kernelspec": {
   "display_name": "Python 3",
   "language": "python",
   "name": "python3"
  },
  "language_info": {
   "codemirror_mode": {
    "name": "ipython",
    "version": 3
   },
   "file_extension": ".py",
   "mimetype": "text/x-python",
   "name": "python",
   "nbconvert_exporter": "python",
   "pygments_lexer": "ipython3",
   "version": "3.8.3"
  }
 },
 "nbformat": 4,
 "nbformat_minor": 4
}
