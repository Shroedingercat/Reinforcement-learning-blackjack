{
 "cells": [
  {
   "cell_type": "code",
   "execution_count": 1,
   "metadata": {},
   "outputs": [],
   "source": [
    "import numpy as np\n",
    "from tqdm import tqdm\n",
    "from Blackjack import blackjack\n",
    "\n",
    "\n",
    "import matplotlib.pyplot as plt\n",
    "\n",
    "\n",
    "\n",
    "%matplotlib inline\n"
   ]
  },
  {
   "cell_type": "markdown",
   "metadata": {},
   "source": [
    "# Часть первая, с блекджеком и стратегиями\n"
   ]
  },
  {
   "cell_type": "code",
   "execution_count": 2,
   "metadata": {},
   "outputs": [],
   "source": [
    "env = blackjack.BlackjackEnv(natural=True)"
   ]
  },
  {
   "cell_type": "code",
   "execution_count": 9,
   "metadata": {},
   "outputs": [],
   "source": [
    "def simple_strategy(env):\n",
    "    history = []\n",
    "    points, dealer, _ = env.reset()\n",
    "    R = 0\n",
    "    history.append((points, dealer, R))\n",
    "    end = False\n",
    "    while not end:\n",
    "        if history[-1][0] in [19, 20, 21]:\n",
    "            action = 0\n",
    "        else:\n",
    "            action = 1\n",
    "        tmp, R, end, _ = env.step(action)\n",
    "        history.append((tmp[0], tmp[1],  R))\n",
    "        \n",
    "    return history"
   ]
  },
  {
   "cell_type": "code",
   "execution_count": 10,
   "metadata": {},
   "outputs": [],
   "source": [
    "#Используйте методы Монте-Карло, чтобы оценить выигрыш от этой стратегии.\n",
    "# Не на 100% уверен, что вы под этим имели в виду Поэтому посчитал ожидаемый выйгрышь для каждой позиции\n",
    "# И просто средний выйгрышь\n",
    "def get_Monte_Carlo_V(strategy, env, j=1, n_iter=100000):\n",
    "    V = np.zeros((21, 21))\n",
    "    N = np.zeros((21, 21))\n",
    "    for i in range(n_iter):\n",
    "        G = 0\n",
    "        history = simple_strategy(env)\n",
    "        T = len(history)-1\n",
    "        for t in range(T-1, -1, -1):\n",
    "            G = G*j + history[t+1][2]\n",
    "            player, dealer = history[t][0]-1, history[t][1]-1\n",
    "            N[player, dealer] += 1\n",
    "            V[player, dealer] += 1/N[player, dealer]*(G-V[player, dealer])\n",
    "    return V\n",
    "            "
   ]
  },
  {
   "cell_type": "code",
   "execution_count": 11,
   "metadata": {},
   "outputs": [
    {
     "data": {
      "text/plain": [
       "array([[ 0.        ,  0.        ,  0.        ,  0.        ,  0.        ,\n",
       "         0.        ,  0.        ,  0.        ,  0.        ,  0.        ,\n",
       "         0.        ,  0.        ,  0.        ,  0.        ,  0.        ,\n",
       "         0.        ,  0.        ,  0.        ,  0.        ,  0.        ,\n",
       "         0.        ],\n",
       "       [ 0.        ,  0.        ,  0.        ,  0.        ,  0.        ,\n",
       "         0.        ,  0.        ,  0.        ,  0.        ,  0.        ,\n",
       "         0.        ,  0.        ,  0.        ,  0.        ,  0.        ,\n",
       "         0.        ,  0.        ,  0.        ,  0.        ,  0.        ,\n",
       "         0.        ],\n",
       "       [ 0.        ,  0.        ,  0.        ,  0.        ,  0.        ,\n",
       "         0.        ,  0.        ,  0.        ,  0.        ,  0.        ,\n",
       "         0.        ,  0.        ,  0.        ,  0.        ,  0.        ,\n",
       "         0.        ,  0.        ,  0.        ,  0.        ,  0.        ,\n",
       "         0.        ],\n",
       "       [-0.54716981, -0.41666667, -0.4375    , -0.13333333, -0.27777778,\n",
       "        -0.29787234, -0.13636364, -0.3877551 , -0.25490196, -0.40414508,\n",
       "         0.        ,  0.        ,  0.        ,  0.        ,  0.        ,\n",
       "         0.        ,  0.        ,  0.        ,  0.        ,  0.        ,\n",
       "         0.        ],\n",
       "       [-0.53061224, -0.42718447, -0.22352941, -0.36470588, -0.44897959,\n",
       "        -0.46575342, -0.39534884, -0.25842697, -0.36170213, -0.46060606,\n",
       "         0.        ,  0.        ,  0.        ,  0.        ,  0.        ,\n",
       "         0.        ,  0.        ,  0.        ,  0.        ,  0.        ,\n",
       "         0.        ],\n",
       "       [-0.54304636, -0.31333333, -0.47142857, -0.3902439 , -0.24626866,\n",
       "        -0.34306569, -0.2556391 , -0.40131579, -0.38636364, -0.44253859,\n",
       "         0.        ,  0.        ,  0.        ,  0.        ,  0.        ,\n",
       "         0.        ,  0.        ,  0.        ,  0.        ,  0.        ,\n",
       "         0.        ],\n",
       "       [-0.48167539, -0.4047619 , -0.37172775, -0.43367347, -0.21      ,\n",
       "        -0.42553191, -0.35348837, -0.29      , -0.52427184, -0.49286641,\n",
       "         0.        ,  0.        ,  0.        ,  0.        ,  0.        ,\n",
       "         0.        ,  0.        ,  0.        ,  0.        ,  0.        ,\n",
       "         0.        ],\n",
       "       [-0.58362989, -0.33460076, -0.37552743, -0.33744856, -0.38818565,\n",
       "        -0.49236641, -0.46511628, -0.32340426, -0.38709677, -0.43919598,\n",
       "         0.        ,  0.        ,  0.        ,  0.        ,  0.        ,\n",
       "         0.        ,  0.        ,  0.        ,  0.        ,  0.        ,\n",
       "         0.        ],\n",
       "       [-0.35093168, -0.06725146, -0.04307692, -0.0754717 , -0.11692308,\n",
       "        -0.08666667, -0.00597015, -0.01582278, -0.13333333, -0.29202841,\n",
       "         0.        ,  0.        ,  0.        ,  0.        ,  0.        ,\n",
       "         0.        ,  0.        ,  0.        ,  0.        ,  0.        ,\n",
       "         0.        ],\n",
       "       [-0.30149254, -0.00773196,  0.02549575,  0.04571429,  0.05066667,\n",
       "         0.1849866 ,  0.17021277,  0.10459184,  0.03649635, -0.12697323,\n",
       "         0.        ,  0.        ,  0.        ,  0.        ,  0.        ,\n",
       "         0.        ,  0.        ,  0.        ,  0.        ,  0.        ,\n",
       "         0.        ],\n",
       "       [-0.17579909,  0.08849558,  0.08705357,  0.05684211,  0.11270983,\n",
       "         0.14320388,  0.09110169,  0.22144522,  0.07712082,  0.00163934,\n",
       "         0.        ,  0.        ,  0.        ,  0.        ,  0.        ,\n",
       "         0.        ,  0.        ,  0.        ,  0.        ,  0.        ,\n",
       "         0.        ],\n",
       "       [-0.57572503, -0.40838852, -0.39892473, -0.37163561, -0.38779731,\n",
       "        -0.37010309, -0.35227273, -0.36542443, -0.38154897, -0.45112179,\n",
       "         0.        ,  0.        ,  0.        ,  0.        ,  0.        ,\n",
       "         0.        ,  0.        ,  0.        ,  0.        ,  0.        ,\n",
       "         0.        ],\n",
       "       [-0.63216266, -0.4271556 , -0.37938144, -0.41923077, -0.40178571,\n",
       "        -0.37861272, -0.3814433 , -0.34023669, -0.38415842, -0.47994987,\n",
       "         0.        ,  0.        ,  0.        ,  0.        ,  0.        ,\n",
       "         0.        ,  0.        ,  0.        ,  0.        ,  0.        ,\n",
       "         0.        ],\n",
       "       [-0.61755802, -0.45311049, -0.47883349, -0.44328922, -0.42899408,\n",
       "        -0.41763134, -0.40491356, -0.42912247, -0.43116635, -0.52349153,\n",
       "         0.        ,  0.        ,  0.        ,  0.        ,  0.        ,\n",
       "         0.        ,  0.        ,  0.        ,  0.        ,  0.        ,\n",
       "         0.        ],\n",
       "       [-0.65938069, -0.51615799, -0.49400922, -0.48621324, -0.47806625,\n",
       "        -0.49823322, -0.42680608, -0.47042514, -0.48301887, -0.55880338,\n",
       "         0.        ,  0.        ,  0.        ,  0.        ,  0.        ,\n",
       "         0.        ,  0.        ,  0.        ,  0.        ,  0.        ,\n",
       "         0.        ],\n",
       "       [-0.65290649, -0.53769301, -0.49956255, -0.52690972, -0.51751313,\n",
       "        -0.53171642, -0.45609548, -0.4982699 , -0.49286988, -0.57447735,\n",
       "         0.        ,  0.        ,  0.        ,  0.        ,  0.        ,\n",
       "         0.        ,  0.        ,  0.        ,  0.        ,  0.        ,\n",
       "         0.        ],\n",
       "       [-0.65560166, -0.55466879, -0.54965753, -0.56087322, -0.52891156,\n",
       "        -0.53529412, -0.52748154, -0.52600671, -0.54256234, -0.5865041 ,\n",
       "         0.        ,  0.        ,  0.        ,  0.        ,  0.        ,\n",
       "         0.        ,  0.        ,  0.        ,  0.        ,  0.        ,\n",
       "         0.        ],\n",
       "       [-0.66964286, -0.56933116, -0.55655738, -0.54866494, -0.54321967,\n",
       "        -0.5605042 , -0.56060606, -0.52138158, -0.59328969, -0.63163307,\n",
       "         0.        ,  0.        ,  0.        ,  0.        ,  0.        ,\n",
       "         0.        ,  0.        ,  0.        ,  0.        ,  0.        ,\n",
       "         0.        ],\n",
       "       [-0.13046875,  0.41228779,  0.40303272,  0.43435178,  0.46218487,\n",
       "         0.49381698,  0.60258481,  0.58222591,  0.28886926,  0.00473154,\n",
       "         0.        ,  0.        ,  0.        ,  0.        ,  0.        ,\n",
       "         0.        ,  0.        ,  0.        ,  0.        ,  0.        ,\n",
       "         0.        ],\n",
       "       [ 0.18709677,  0.62515567,  0.65944272,  0.654934  ,  0.66893144,\n",
       "         0.73015873,  0.81058132,  0.77720871,  0.75704446,  0.41545512,\n",
       "         0.        ,  0.        ,  0.        ,  0.        ,  0.        ,\n",
       "         0.        ,  0.        ,  0.        ,  0.        ,  0.        ,\n",
       "         0.        ],\n",
       "       [ 0.65197429,  0.89233577,  0.88717015,  0.88758993,  0.88579137,\n",
       "         0.8941076 ,  0.9304721 ,  0.94143744,  0.94073377,  0.89062157,\n",
       "         0.        ,  0.        ,  0.        ,  0.        ,  0.        ,\n",
       "         0.        ,  0.        ,  0.        ,  0.        ,  0.        ,\n",
       "         0.        ]])"
      ]
     },
     "execution_count": 11,
     "metadata": {},
     "output_type": "execute_result"
    }
   ],
   "source": [
    "get_Monte_Carlo_V(simple_strategy, env)"
   ]
  },
  {
   "cell_type": "code",
   "execution_count": 12,
   "metadata": {},
   "outputs": [],
   "source": [
    "def get_Monte_Carlo_R(strategy, env, j=1, n_iter=100000):\n",
    "    R = 0\n",
    "    for i in range(n_iter):\n",
    "        G = 0\n",
    "        R += simple_strategy(env)[-1][2]\n",
    "    return R/n_iter"
   ]
  },
  {
   "cell_type": "code",
   "execution_count": 13,
   "metadata": {},
   "outputs": [
    {
     "data": {
      "text/plain": [
       "-0.20527"
      ]
     },
     "execution_count": 13,
     "metadata": {},
     "output_type": "execute_result"
    }
   ],
   "source": [
    "get_Monte_Carlo_R(simple_strategy, env)"
   ]
  },
  {
   "cell_type": "markdown",
   "metadata": {},
   "source": [
    "### Реализуйте метод обучения с подкреплением без модели (можно Q-обучение, но рекомендую попробовать и другие, например Monte Carlo control) для обучения стратегии в блекджеке, используя окружение Blackjack-v0 из OpenAI Gym"
   ]
  },
  {
   "cell_type": "code",
   "execution_count": 6,
   "metadata": {},
   "outputs": [],
   "source": [
    "def Q_learning_episode(env, pi, Q, alpha=0.1, epsilon=0.1, gamma=0.9):\n",
    "    player, dealer, _ = env.reset()\n",
    "    player -= 1\n",
    "    dealer -= 1\n",
    "    end = False\n",
    "    action = pi[player, dealer] if np.random.rand() > epsilon else np.random.randint(Na)\n",
    "    while not end:\n",
    "        tmp, reward, end, _ = env.step(action)\n",
    "        action_prime = pi[tmp[0]-1, tmp[1]-1] if np.random.rand() > epsilon else np.random.randint(Na)\n",
    "        Q[player, dealer][action] = Q[player, dealer][action] + alpha * (reward + gamma * np.max( Q[tmp[0]-1, tmp[1]-1] ) - Q[player, dealer][action])\n",
    "        player, dealer, action = tmp[0]-1, tmp[1]-1, action_prime\n",
    "    return Q, pi, reward"
   ]
  },
  {
   "cell_type": "markdown",
   "metadata": {},
   "source": [
    "### Сколько выигрывает казино у вашей стратегии? Нарисуйте графики среднего дохода вашего метода (усреднённого по крайней мере по 100000 раздач, а лучше больше) по ходу обучения. Попробуйте подобрать оптимальные гиперпараметры.\n"
   ]
  },
  {
   "cell_type": "code",
   "execution_count": 9,
   "metadata": {},
   "outputs": [
    {
     "name": "stderr",
     "output_type": "stream",
     "text": [
      "100%|███████████████████████████████████████████████████████████████████████| 100000/100000 [00:09<00:00, 10697.48it/s]\n",
      "  1%|▊                                                                        | 1104/100000 [00:00<00:09, 10932.54it/s]"
     ]
    },
    {
     "name": "stdout",
     "output_type": "stream",
     "text": [
      "Еpsilon 1 -0.38285\n"
     ]
    },
    {
     "name": "stderr",
     "output_type": "stream",
     "text": [
      "100%|███████████████████████████████████████████████████████████████████████| 100000/100000 [00:09<00:00, 11030.90it/s]\n",
      "  1%|▊                                                                        | 1104/100000 [00:00<00:09, 10930.97it/s]"
     ]
    },
    {
     "name": "stdout",
     "output_type": "stream",
     "text": [
      "Еpsilon 0.5 -0.26569\n"
     ]
    },
    {
     "name": "stderr",
     "output_type": "stream",
     "text": [
      "100%|███████████████████████████████████████████████████████████████████████| 100000/100000 [00:09<00:00, 10887.32it/s]\n",
      "  1%|▊                                                                        | 1119/100000 [00:00<00:08, 11081.08it/s]"
     ]
    },
    {
     "name": "stdout",
     "output_type": "stream",
     "text": [
      "Еpsilon 0.2 -0.20098\n"
     ]
    },
    {
     "name": "stderr",
     "output_type": "stream",
     "text": [
      "100%|███████████████████████████████████████████████████████████████████████| 100000/100000 [00:09<00:00, 10870.60it/s]\n",
      "  1%|▊                                                                        | 1069/100000 [00:00<00:09, 10689.37it/s]"
     ]
    },
    {
     "name": "stdout",
     "output_type": "stream",
     "text": [
      "Еpsilon 0.1 -0.174275\n"
     ]
    },
    {
     "name": "stderr",
     "output_type": "stream",
     "text": [
      "100%|███████████████████████████████████████████████████████████████████████| 100000/100000 [00:09<00:00, 10361.63it/s]"
     ]
    },
    {
     "name": "stdout",
     "output_type": "stream",
     "text": [
      "Еpsilon 0 -0.16043\n"
     ]
    },
    {
     "name": "stderr",
     "output_type": "stream",
     "text": [
      "\n"
     ]
    },
    {
     "data": {
      "text/plain": [
       "Text(0, 0.5, 'Средний доход')"
      ]
     },
     "execution_count": 9,
     "metadata": {},
     "output_type": "execute_result"
    },
    {
     "data": {
      "image/png": "[encoded data removed]",
      "text/plain": [
       "<Figure size 864x432 with 1 Axes>"
      ]
     },
     "metadata": {
      "needs_background": "light"
     },
     "output_type": "display_data"
    }
   ],
   "source": [
    "Q = np.random.rand(31,31,2)\n",
    "Na = 2\n",
    "fig, ax = plt.subplots(1, 1, figsize=(12, 6))\n",
    "n_heands = 100000\n",
    "for epsilon in [1, 0.5, 0.2, 0.1, 0]:\n",
    "    avg = []\n",
    "    sm = 0\n",
    "    for i in tqdm(range(n_heands)):\n",
    "        pi = np.argmax(Q, axis=2 )\n",
    "        Q, pi, reward = Q_learning_episode(env, pi, Q, alpha=0.05, epsilon=epsilon, gamma=0.9)\n",
    "        sm += reward\n",
    "        avg.append(sm/(i+1))\n",
    "    print(f\"Еpsilon {epsilon}\", avg[-1])\n",
    "        \n",
    "    ax.plot(list(range(n_heands)), avg, label=f\"Еpsilon {epsilon}\")\n",
    "ax.legend(loc=\"upper right\")\n",
    "#ax.set_xlim((1, total_episodes))\n",
    "ax.set_xlabel(\"Кол-во 'рук'\")\n",
    "ax.set_ylabel(\"Средний доход\")"
   ]
  },
  {
   "cell_type": "markdown",
   "metadata": {},
   "source": [
    "# Часть вторая, удвоенная"
   ]
  },
  {
   "cell_type": "code",
   "execution_count": 2,
   "metadata": {},
   "outputs": [],
   "source": [
    "env = blackjack.BlackjackEnv(double=True, natural=True)"
   ]
  },
  {
   "cell_type": "code",
   "execution_count": 3,
   "metadata": {},
   "outputs": [
    {
     "data": {
      "text/plain": [
       "(9, 6, False)"
      ]
     },
     "execution_count": 3,
     "metadata": {},
     "output_type": "execute_result"
    }
   ],
   "source": [
    "env.reset()"
   ]
  },
  {
   "cell_type": "code",
   "execution_count": 4,
   "metadata": {},
   "outputs": [
    {
     "data": {
      "text/plain": [
       "((18, 6, False), 2.0, True, {})"
      ]
     },
     "execution_count": 4,
     "metadata": {},
     "output_type": "execute_result"
    }
   ],
   "source": [
    "env.step(2)"
   ]
  },
  {
   "cell_type": "code",
   "execution_count": 7,
   "metadata": {},
   "outputs": [
    {
     "name": "stderr",
     "output_type": "stream",
     "text": [
      "100%|███████████████████████████████████████████████████████████████████████| 100000/100000 [00:09<00:00, 10272.96it/s]\n",
      "  1%|▋                                                                          | 989/100000 [00:00<00:10, 9795.06it/s]"
     ]
    },
    {
     "name": "stdout",
     "output_type": "stream",
     "text": [
      "Еpsilon 1 -0.3825\n"
     ]
    },
    {
     "name": "stderr",
     "output_type": "stream",
     "text": [
      "100%|███████████████████████████████████████████████████████████████████████| 100000/100000 [00:09<00:00, 10167.65it/s]\n",
      "  1%|▊                                                                        | 1040/100000 [00:00<00:09, 10398.27it/s]"
     ]
    },
    {
     "name": "stdout",
     "output_type": "stream",
     "text": [
      "Еpsilon 0.5 -0.27622\n"
     ]
    },
    {
     "name": "stderr",
     "output_type": "stream",
     "text": [
      "100%|███████████████████████████████████████████████████████████████████████| 100000/100000 [00:09<00:00, 10095.87it/s]\n",
      "  1%|▊                                                                        | 1080/100000 [00:00<00:09, 10693.06it/s]"
     ]
    },
    {
     "name": "stdout",
     "output_type": "stream",
     "text": [
      "Еpsilon 0.2 -0.20046\n"
     ]
    },
    {
     "name": "stderr",
     "output_type": "stream",
     "text": [
      "100%|███████████████████████████████████████████████████████████████████████| 100000/100000 [00:09<00:00, 10093.39it/s]\n",
      "  1%|▊                                                                        | 1037/100000 [00:00<00:09, 10267.54it/s]"
     ]
    },
    {
     "name": "stdout",
     "output_type": "stream",
     "text": [
      "Еpsilon 0.1 -0.179365\n"
     ]
    },
    {
     "name": "stderr",
     "output_type": "stream",
     "text": [
      "100%|████████████████████████████████████████████████████████████████████████| 100000/100000 [00:10<00:00, 9938.00it/s]"
     ]
    },
    {
     "name": "stdout",
     "output_type": "stream",
     "text": [
      "Еpsilon 0 -0.162595\n"
     ]
    },
    {
     "name": "stderr",
     "output_type": "stream",
     "text": [
      "\n"
     ]
    },
    {
     "data": {
      "text/plain": [
       "Text(0, 0.5, 'Средний доход')"
      ]
     },
     "execution_count": 7,
     "metadata": {},
     "output_type": "execute_result"
    },
    {
     "data": {
      "image/png": "[encoded data removed]",
      "text/plain": [
       "<Figure size 864x432 with 1 Axes>"
      ]
     },
     "metadata": {
      "needs_background": "light"
     },
     "output_type": "display_data"
    }
   ],
   "source": [
    "Q = np.random.rand(31,31,3)\n",
    "Na = 3\n",
    "fig, ax = plt.subplots(1, 1, figsize=(12, 6))\n",
    "n_heands = 100000\n",
    "for epsilon in [1, 0.5, 0.2, 0.1, 0]:\n",
    "    avg = []\n",
    "    sm = 0\n",
    "    for i in tqdm(range(n_heands)):\n",
    "        pi = np.argmax(Q, axis=2 )\n",
    "        Q, pi, reward = Q_learning_episode(env, pi, Q, alpha=0.05, epsilon=epsilon, gamma=0.9)\n",
    "        sm += reward\n",
    "        avg.append(sm/(i+1))\n",
    "    print(f\"Еpsilon {epsilon}\", avg[-1])\n",
    "        \n",
    "    ax.plot(list(range(n_heands)), avg, label=f\"Еpsilon {epsilon}\")\n",
    "ax.legend(loc=\"upper right\")\n",
    "#ax.set_xlim((1, total_episodes))\n",
    "ax.set_xlabel(\"Кол-во 'рук'\")\n",
    "ax.set_ylabel(\"Средний доход\")"
   ]
  },
  {
   "cell_type": "markdown",
   "metadata": {},
   "source": [
    "# Часть третья, в главной роли — Дастин Хоффма"
   ]
  },
  {
   "cell_type": "markdown",
   "metadata": {},
   "source": [
    "Просто сохраняю все карты по кооимбинациям из 2, 3, 4... .Приходится сохранять все в dict чтобы влезло в память, поэтому считается очень долго... :("
   ]
  },
  {
   "cell_type": "code",
   "execution_count": 2,
   "metadata": {},
   "outputs": [],
   "source": [
    "env = blackjack.MyBlackjackEnv(natural=True)"
   ]
  },
  {
   "cell_type": "code",
   "execution_count": 14,
   "metadata": {},
   "outputs": [
    {
     "data": {
      "text/plain": [
       "((20, 3, False), 0, False, False)"
      ]
     },
     "execution_count": 14,
     "metadata": {},
     "output_type": "execute_result"
    }
   ],
   "source": [
    "env.reset()"
   ]
  },
  {
   "cell_type": "code",
   "execution_count": 15,
   "metadata": {},
   "outputs": [
    {
     "data": {
      "text/plain": [
       "((21, 3, False), 0.0, False, False)"
      ]
     },
     "execution_count": 15,
     "metadata": {},
     "output_type": "execute_result"
    }
   ],
   "source": [
    "env.step(1)"
   ]
  },
  {
   "cell_type": "code",
   "execution_count": 3,
   "metadata": {},
   "outputs": [],
   "source": [
    "def find(x):\n",
    "    count = 0\n",
    "    for i in range(len(x)):\n",
    "        if x[i] == ',':\n",
    "            count += 1\n",
    "            if count == 2:\n",
    "                return i"
   ]
  },
  {
   "cell_type": "code",
   "execution_count": 32,
   "metadata": {},
   "outputs": [],
   "source": [
    "def Q_learning_episode(env, pi, Q, alpha=0.1, epsilon=0.1, gamma=0.9):\n",
    "    tmp, _, end, reseted = env.reset()\n",
    "    player, dealer = tmp[0], tmp[1]\n",
    "    player -= 1\n",
    "    dealer -= 1\n",
    "    rewards = []\n",
    "    key_pi = f\"{player},{dealer},{0},{0},{0},{0},{0},{0},{0},{0},{0},{0}\"\n",
    "    action = pi[key_pi]  if np.random.rand() > epsilon and pi.get(key_pi) is not None else np.random.randint(Na)\n",
    "    key_Q = key_pi\n",
    "    while not reseted:\n",
    "        tmp, reward, end, reseted = env.step(action)\n",
    "        index = env.cards_to_index()\n",
    "        key_pi_prime = f\"{tmp[0]-1},{tmp[1]-1}\"\n",
    "        \n",
    "        if pi.get(key_pi) is None:\n",
    "            pi[key_pi] = np.random.randint(Na)\n",
    "        for i in index:\n",
    "            key_pi_prime += f\",{i}\"\n",
    "        if pi.get(key_pi_prime) is None:\n",
    "            pi[key_pi_prime] = np.random.randint(Na)\n",
    "        action_prime = pi[key_pi_prime]  if np.random.rand() > epsilon and pi.get(key_pi) is not None else np.random.randint(Na)\n",
    "        key_Q_prime = key_pi_prime\n",
    "        if Q.get(key_Q) is None:\n",
    "            Q[key_Q] = np.random.random(size=Na)\n",
    "        if Q.get(key_Q_prime) is None:\n",
    "            Q[key_Q_prime] = np.random.random(size=Na)\n",
    "        Q[key_Q][action_prime] = Q[key_Q][action_prime] + alpha * (reward + gamma * np.max( Q[key_Q_prime] ) - Q[key_Q][action_prime])\n",
    "        key_pi, key_Q = key_pi_prime, key_Q_prime\n",
    "        if end:\n",
    "            rewards.append(reward)\n",
    "            pi = {key: Q[key].argmax() for key in Q}\n",
    "            tmp, _, end, reseted = env.reset()\n",
    "            key_pi = f\"{tmp[0]-1},{tmp[1]-1}\"+key_pi[find(key_pi):]\n",
    "            action = pi[key_pi]  if np.random.rand() > epsilon and pi.get(key_pi) is not None else np.random.randint(Na)\n",
    "            key_Q = key_pi\n",
    "            \n",
    "    return Q, pi, np.mean(rewards)"
   ]
  },
  {
   "cell_type": "code",
   "execution_count": null,
   "metadata": {},
   "outputs": [
    {
     "name": "stderr",
     "output_type": "stream",
     "text": [
      "  0%|                                                                                        | 0/10000 [00:00<?, ?it/s]C:\\Users\\Nikita\\anaconda3\\lib\\site-packages\\numpy\\core\\fromnumeric.py:3334: RuntimeWarning: Mean of empty slice.\n",
      "  return _methods._mean(a, axis=axis, dtype=dtype,\n",
      "C:\\Users\\Nikita\\anaconda3\\lib\\site-packages\\numpy\\core\\_methods.py:161: RuntimeWarning: invalid value encountered in double_scalars\n",
      "  ret = ret.dtype.type(ret / rcount)\n",
      "  6%|████▍                                                                         | 563/10000 [00:36<18:23,  8.55it/s]"
     ]
    }
   ],
   "source": [
    "fig, ax = plt.subplots(1, 1, figsize=(12, 6))\n",
    "n_heands = 10000\n",
    "Na = 3\n",
    "for epsilon in [0.5, 0.2, 0.1, 0]:\n",
    "    avg = []\n",
    "    Q = dict()\n",
    "    pi = dict()\n",
    "    sm = 0\n",
    "    for i in tqdm(range(n_heands)):\n",
    "        Q, pi, reward = Q_learning_episode(env, pi, Q, alpha=0.05, epsilon=epsilon, gamma=0.9)\n",
    "        sm += reward\n",
    "        avg.append(sm/(i+1))\n",
    "    print(f\"Еpsilon {epsilon}\", avg[-1])\n",
    "        \n",
    "    ax.plot(list(range(n_heands)), avg, label=f\"Еpsilon {epsilon}\")\n",
    "ax.legend(loc=\"upper right\")\n",
    "#ax.set_xlim((1, total_episodes))\n",
    "ax.set_xlabel(\"Кол-во 'рук'\")\n",
    "ax.set_ylabel(\"Средний доход\")"
   ]
  },
  {
   "cell_type": "code",
   "execution_count": null,
   "metadata": {},
   "outputs": [],
   "source": []
  }
 ],
 "metadata": {
  "kernelspec": {
   "display_name": "Python 3",
   "language": "python",
   "name": "python3"
  },
  "language_info": {
   "codemirror_mode": {
    "name": "ipython",
    "version": 3
   },
   "file_extension": ".py",
   "mimetype": "text/x-python",
   "name": "python",
   "nbconvert_exporter": "python",
   "pygments_lexer": "ipython3",
   "version": "3.8.3"
  }
 },
 "nbformat": 4,
 "nbformat_minor": 4
}
